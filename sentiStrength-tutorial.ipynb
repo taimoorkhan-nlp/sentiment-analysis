{
 "cells": [
  {
   "cell_type": "markdown",
   "id": "fe0e817e-3547-4001-827a-269657d6f896",
   "metadata": {},
   "source": [
    "# Lexical Sentiment Analysis using SentiStrength"
   ]
  },
  {
   "cell_type": "markdown",
   "id": "bde56246-ff5d-4938-9584-d1f2160712cd",
   "metadata": {},
   "source": [
    "Sentiment analysis is a powerful technique that allows us to automatically understand the opinions, emotions, and attitudes expressed in written text. This tutorial will guide you through the process of conducting a robust sentiment analysis on social media data, specifically focusing on Twitter data.\n"
   ]
  },
  {
   "cell_type": "markdown",
   "id": "bea417ac-3883-48cf-b4fa-a7034fdf3361",
   "metadata": {},
   "source": [
    "We'll begin by introducing sentiment analysis, its origins, and its importance in today's digital landscape. Sentiment analysis, also known as opinion mining or emotion analysis, is the automated process of interpreting and classifying the underlying sentiments or emotions in text data. This technique has its roots in computer science but has since been widely adopted across various disciplines, including management, social sciences, and linguistics.\n"
   ]
  },
  {
   "cell_type": "markdown",
   "id": "8a623048-69d3-4963-836f-fc1e1052b5b1",
   "metadata": {},
   "source": [
    "The advent of social media has significantly increased the value and relevance of sentiment analysis. Platforms like Twitter have become powerful channels for individuals to express their opinions, emotions, and sentiments on a wide range of topics. Leveraging this wealth of user-generated content requires constant monitoring and analysis, making sentiment analysis an invaluable tool for businesses, governments, and researchers alike.\n"
   ]
  },
  {
   "cell_type": "markdown",
   "id": "56ba49d1-e923-45e9-ba8b-3962f40d6e2b",
   "metadata": {},
   "source": [
    "In this tutorial, we'll follow a structured sentiment analysis process that covers the essential steps from topic identification to data visualization. We'll start by defining our research question and identifying the relevant data source (in this case, Twitter). Next, we'll discuss techniques for data collection, cleaning, and preprocessing to ensure high-quality input for our analysis.\n"
   ]
  },
  {
   "cell_type": "markdown",
   "id": "b90dfdb5-5fe3-4d60-92b9-274553dd23ec",
   "metadata": {},
   "source": [
    "Once our data is ready, we'll introduce a valuable tool called SentiStrength, a widely used and well-established sentiment analysis library. SentiStrength has been employed by researchers across various domains, and its effectiveness has been demonstrated in numerous scholarly publications.\n"
   ]
  },
  {
   "cell_type": "markdown",
   "id": "f2639fa6-f4f4-4b60-b3ca-a598f14ca01c",
   "metadata": {},
   "source": [
    "After applying SentiStrength to our Twitter data, we'll explore techniques for visualizing and interpreting the sentiment analysis results. This will involve creating insightful visualizations that can effectively communicate the key findings and insights derived from the analysis.\n"
   ]
  },
  {
   "cell_type": "markdown",
   "id": "6668d1e1-dcae-4735-93b0-988c4e0d049f",
   "metadata": {},
   "source": [
    "Throughout the tutorial, we'll address common challenges and considerations in sentiment analysis, such as handling irony, sarcasm, and implicit sentiment cues. We'll also discuss best practices for ensuring the accuracy and reliability of our analysis.\n"
   ]
  },
  {
   "cell_type": "markdown",
   "id": "635ed383-430f-49f5-bea1-52260a8cad4f",
   "metadata": {},
   "source": [
    "By the end of this tutorial, you'll have a solid understanding of the sentiment analysis process and the skills necessary to conduct high-quality sentiment analysis on social media data, particularly Twitter data. Let's dive in!"
   ]
  },
  {
   "cell_type": "markdown",
   "id": "4992b153-282e-4014-9863-1c7a1a6da725",
   "metadata": {},
   "source": [
    "## Tweets Sentiment analysis (Sentistrengh )"
   ]
  },
  {
   "cell_type": "markdown",
   "id": "7fbf81d9-ac1c-452b-8bcc-d4ce4a83744d",
   "metadata": {},
   "source": [
    "SentiStrength is a powerful sentiment analysis tool that is freely available for academic research purposes. It can be accessed online through a live demo or downloaded (for Windows only) from the official website at http://sentistrength.wlv.ac.uk.\n"
   ]
  },
  {
   "cell_type": "markdown",
   "id": "094b0050-fbe4-4c9f-9379-fcf5601a2585",
   "metadata": {},
   "source": [
    "At its core, SentiStrength is a lexicon-based sentiment classifier that compares social media text against a predefined lexicon of sentiment-bearing words and phrases. The program assigns sentiment scores ranging from -5 to +5, with positive numbers indicating favorable attitudes and negative numbers indicating negative attitudes. This approach is inspired by psychological research suggesting that human emotions can simultaneously exhibit both positive and negative sentiments, commonly known as mixed emotions.\n"
   ]
  },
  {
   "cell_type": "markdown",
   "id": "6d9eb2a9-731c-4b90-8366-58b2726a1a22",
   "metadata": {},
   "source": [
    "One of the key strengths of SentiStrength is its ability to provide separate sentiment scores for each word within a sentence, allowing for a more granular analysis of the overall sentiment strength. The program's lexicon comprises 1,125 words and 1,364 word stems, each with an associated positive or negative sentiment score. For example, the word \"ailing\" has a score of -3 in the lexicon, suggesting a moderate negative sentiment.\n"
   ]
  },
  {
   "cell_type": "markdown",
   "id": "ee71c800-b266-48ed-9409-7f75750c26c3",
   "metadata": {},
   "source": [
    "SentiStrength employs a range of sophisticated techniques to enhance its sentiment analysis capabilities. It accounts for negation, where positive terms preceded by negating words (e.g., \"not,\" \"don't\") have their sentiment flipped, and negative terms are neutralized. Additionally, the program considers booster words like \"very\" and \"extremely,\" which can amplify the sentiment strength of the following word.\n"
   ]
  },
  {
   "cell_type": "markdown",
   "id": "0a703916-9a66-481a-971b-8d27adb3f102",
   "metadata": {},
   "source": [
    "The tool also incorporates rules for handling questions, idioms, spelling corrections, and punctuation, as well as rules specific to computer-mediated communication methods of expressing sentiment, such as emoticons. SentiStrength maintains a list of emoticons with associated sentiment strength scores, further enhancing its ability to accurately interpret sentiment in social media text.\n"
   ]
  },
  {
   "cell_type": "markdown",
   "id": "5b975721-902e-4a11-9677-d7c87cfd7143",
   "metadata": {},
   "source": [
    "One of the notable advantages of SentiStrength is its speed and transparency. It can process up to 14,000 tweets per second on a standard PC and provides insights into how its scores were calculated. Additionally, SentiStrength supports multiple languages, making it a versatile tool for sentiment analysis across various linguistic contexts.\n"
   ]
  },
  {
   "cell_type": "code",
   "execution_count": null,
   "id": "b8823138-01cb-4116-8fdd-cbf4c9326b1d",
   "metadata": {},
   "outputs": [],
   "source": []
  },
  {
   "cell_type": "code",
   "execution_count": 7,
   "id": "fdd96c42-f685-43e0-9d4f-591dafe065af",
   "metadata": {},
   "outputs": [],
   "source": [
    "#! pip install sentistrength\n",
    "#! pip install pandas"
   ]
  },
  {
   "cell_type": "code",
   "execution_count": 23,
   "id": "5f214e02-eaf5-4c28-b206-7a837f9a2c50",
   "metadata": {},
   "outputs": [],
   "source": [
    "from sentistrength import PySentiStr\n",
    "senti = PySentiStr()"
   ]
  },
  {
   "cell_type": "code",
   "execution_count": 31,
   "id": "de30d18b-87a4-4418-bc61-223b71bc5f66",
   "metadata": {},
   "outputs": [],
   "source": [
    "senti.setSentiStrengthPath('jar_datei/SentiStrength.jar') # Note: Provide absolute path instead of relative path\n",
    "senti.setSentiStrengthLanguageFolderPath('SentiStrengthData/') # Note: Provide absolute path instead of relative path"
   ]
  },
  {
   "cell_type": "code",
   "execution_count": 32,
   "id": "5ce0c854-a127-4afa-82c3-1e65095b56e9",
   "metadata": {},
   "outputs": [],
   "source": [
    "#import pysenti\n",
    "\n",
    "s = senti.getSentiment('What a horrible terrible day', score='dual')\n",
    "# SentiResult(positive=2, negative=-1, neutral=1)"
   ]
  },
  {
   "cell_type": "code",
   "execution_count": 33,
   "id": "51b5994f-7c53-4668-91ca-5c9af909254d",
   "metadata": {},
   "outputs": [
    {
     "name": "stdout",
     "output_type": "stream",
     "text": [
      "[(3, -1)]\n"
     ]
    }
   ],
   "source": [
    "\n",
    "result = senti.getSentiment('What a lovely positive day', score='dual')\n",
    "print(result)"
   ]
  },
  {
   "cell_type": "code",
   "execution_count": 34,
   "id": "d06f025c-d7fd-4bfb-8108-977ef61a42c6",
   "metadata": {},
   "outputs": [
    {
     "data": {
      "text/plain": [
       "'3 -1'"
      ]
     },
     "execution_count": 34,
     "metadata": {},
     "output_type": "execute_result"
    }
   ],
   "source": [
    "str(result[0][0]) + ' ' + str(result[0][1])"
   ]
  },
  {
   "cell_type": "code",
   "execution_count": 35,
   "id": "fc03e987-6277-4d6f-a2e7-6517f98a8457",
   "metadata": {},
   "outputs": [],
   "source": [
    "def get_seniment(text):\n",
    "    result = senti.getSentiment(text, score='dual')\n",
    "    return str(result[0][0]) + ' ' + str(result[0][1])"
   ]
  },
  {
   "cell_type": "markdown",
   "id": "e3e46e78-0303-49f7-8617-39d305adef84",
   "metadata": {},
   "source": [
    "Example use single string"
   ]
  },
  {
   "cell_type": "code",
   "execution_count": 36,
   "id": "b2f8e808-fc58-4cac-83cc-502ad6bda8e2",
   "metadata": {},
   "outputs": [
    {
     "name": "stdout",
     "output_type": "stream",
     "text": [
      "[1]\n"
     ]
    }
   ],
   "source": [
    "result1 = senti.getSentiment('What a lovely day')\n",
    "print(result1)\n"
   ]
  },
  {
   "cell_type": "markdown",
   "id": "3f659e88-8e6f-4bbe-aef6-4d981b2811a5",
   "metadata": {},
   "source": [
    "Example use (List of string or panda series"
   ]
  },
  {
   "cell_type": "code",
   "execution_count": 38,
   "id": "aef88ce5-81df-4a6e-a459-b42df0b34aa4",
   "metadata": {},
   "outputs": [
    {
     "name": "stdout",
     "output_type": "stream",
     "text": [
      "[1, -1]\n",
      "[(2, -1), (1, -2)]\n",
      "[1, -1]\n",
      "[(2, -1, 1), (1, -2, -1)]\n"
     ]
    }
   ],
   "source": [
    "from sentistrength import PySentiStr\n",
    "senti = PySentiStr()\n",
    "senti.setSentiStrengthPath('jar_datei/SentiStrength.jar') # Note: Provide absolute path instead of relative path\n",
    "senti.setSentiStrengthLanguageFolderPath('SentiStrengthData/') # Note: Provide absolute path instead of relative path\n",
    "str_arr = ['What a lovely day', 'What a bad day']\n",
    "result = senti.getSentiment(str_arr, score='scale')\n",
    "print(result)\n",
    "\n",
    "# OR, if you want dual scoring (a score each for positive rating and negative rating)\n",
    "result2 = senti.getSentiment(str_arr, score='dual')\n",
    "print(result2)\n",
    "\n",
    "# OR, if you want binary scoring (1 for positive sentence, -1 for negative sentence)\n",
    "result2 = senti.getSentiment(str_arr, score='binary')\n",
    "print(result2)\n",
    "\n",
    "# OR, if you want trinary scoring (a score each for positive rating, negative rating and neutral rating)\n",
    "result2 = senti.getSentiment(str_arr, score='trinary')\n",
    "print(result2)\n"
   ]
  },
  {
   "cell_type": "code",
   "execution_count": 40,
   "id": "77a43f55-bdb3-45ed-b347-39269d369bf7",
   "metadata": {},
   "outputs": [],
   "source": [
    "! pip freeze > requirements.txt"
   ]
  },
  {
   "cell_type": "code",
   "execution_count": null,
   "id": "d626bc52-4f56-4572-b3a0-767a807d5b22",
   "metadata": {},
   "outputs": [],
   "source": []
  }
 ],
 "metadata": {
  "kernelspec": {
   "display_name": "Python 3 (ipykernel)",
   "language": "python",
   "name": "python3"
  },
  "language_info": {
   "codemirror_mode": {
    "name": "ipython",
    "version": 3
   },
   "file_extension": ".py",
   "mimetype": "text/x-python",
   "name": "python",
   "nbconvert_exporter": "python",
   "pygments_lexer": "ipython3",
   "version": "3.12.3"
  }
 },
 "nbformat": 4,
 "nbformat_minor": 5
}
