{
 "cells": [
  {
   "cell_type": "markdown",
   "id": "0539a27d",
   "metadata": {},
   "source": [
    "# Learning Objectives\n",
    "- Learn what sentiment analysis is, how it works, and its applications in real-world scenarios like social media monitoring, product reviews, and customer feedback.\n",
    "\n",
    "- Explore and compare the working mechanisms, outputs, and strengths of four popular sentiment tools: VADER, TextBlob, SentiWordNet, and SentiStrength.\n",
    "\n",
    "- Gain hands-on experience by applying each tool to analyze sentiment in diverse textual datasets (e.g., tweets, comments, or news articles), and interpret their results.\n",
    "\n",
    "- Evaluate and contrast the performance of these tools based on language style (formal/informal), domain specificity, and polarity accuracy, identifying which tools suit specific use cases best."
   ]
  },
  {
   "cell_type": "markdown",
   "id": "c014a3a0",
   "metadata": {},
   "source": [
    "# Target Audience\n",
    "- This tutorial is for computational social scientists, computer scientists interested in analyzing subjective text.\n",
    "- Basic Python skills and sentiment polarity understanding is required."
   ]
  },
  {
   "cell_type": "markdown",
   "id": "2e910779",
   "metadata": {},
   "source": [
    "# Use Cases\n",
    "Detects sentiments in social media posts"
   ]
  },
  {
   "cell_type": "markdown",
   "id": "57035d0f",
   "metadata": {},
   "source": [
    "# Duration\n",
    "1 hour"
   ]
  },
  {
   "cell_type": "markdown",
   "id": "5b8921e0",
   "metadata": {},
   "source": [
    "# Environment Setup\n",
    "Set up the virtual working environment be exucting the following command"
   ]
  },
  {
   "cell_type": "code",
   "execution_count": null,
   "id": "29eb17d0",
   "metadata": {},
   "outputs": [],
   "source": [
    "! conda env create -f environment.yml"
   ]
  },
  {
   "cell_type": "code",
   "execution_count": null,
   "id": "26e4561c-4c8f-4129-8933-c60c3a702fe8",
   "metadata": {},
   "outputs": [],
   "source": [
    "import nltk\n",
    "nltk.download(\"punkt\")\n",
    "nltk.download(\"punkt_tab\")\n",
    "nltk.download('averaged_perceptron_tagger_eng')\n",
    "nltk.download(\"wordnet\")\n",
    "nltk.download(\"stopwords\")\n",
    "nltk.download(\"vader_lexicon\")\n"
   ]
  },
  {
   "cell_type": "markdown",
   "id": "3ff947d1",
   "metadata": {},
   "source": [
    "## 1. Sentiment Analysis\n",
    "\n",
    "Sentiment analysis is a natural language processing (NLP) technique used to identify and categorize emotions or opinions expressed in text. It is commonly applied to determine whether a piece of writing—such as a review, tweet, or customer feedback—is positive, negative, or neutral. By analyzing linguistic features like word choice, tone, and context, sentiment analysis enables organizations to understand public perception, monitor brand reputation, and gain insights from large volumes of textual data. "
   ]
  },
  {
   "cell_type": "markdown",
   "id": "b0a14a45",
   "metadata": {},
   "source": [
    "## 1.1. SentiStrength\n",
    "\n",
    "SentiStrength is a rule-based sentiment analysis tool designed to detect the strength of positive and negative emotions in short texts, particularly from social media. Unlike many traditional sentiment tools, it outputs both a positive and negative score for each input, allowing it to capture mixed sentiments within a single statement. SentiStrength is optimized for informal language, handling slang, spelling variations, emoticons, and repeated letters effectively. It has been widely used in research due to its high performance on short, noisy text, and it supports customization and adaptation to different domains, including variants like SentiStrength-SE for software engineering contexts.\n",
    "\n",
    "SentiStrength analyze individual words for polarity, taking negation (e.g., not, don't), booster words (e.g., very, extremely), questions, idioms, emojis and punctuations into account, which makes it suitable for analyzing social media posts. It is a very simple, transparent and high speed method that works across various linguistics contexts."
   ]
  },
  {
   "cell_type": "markdown",
   "id": "edf2d120",
   "metadata": {},
   "source": [
    "## 1.2. VADER\n",
    "\n",
    "Vader (Valence Aware Dictionary and sEntiment Reasoner) is a rule-based sentiment analysis tool that is specifically designed for analyzing social media texts. Vader is a pre-trained sentiment analysis model that provides a sentiment score for a given text. It uses a dictionary of words and rules to determine the sentiment of a piece of text. For each word the scores ranges from -4 as most negative to +4 as most positive. Vader also takes into account the intensity of the sentiment emphasized through capitalization or punctuation. \n"
   ]
  },
  {
   "cell_type": "markdown",
   "id": "3ee0a799",
   "metadata": {},
   "source": [
    "## 1.3. TextBlob\n",
    "\n",
    "TextBlob (along with other NLP tasks) analyzes the sentiments in text offering subjectivity and polarity scores. A higher subjectivity score indicates the presence of sentiments in the text while the polarity score demonstrates the orientation of subjectivity. The subjectivity scores are from 0 - 1 with 0 being most objective and 1 being most subjective. The polarity scores are from -1 most negative to +1 most positive. Generally, polarity score is used for sentiment analysis, however, it is important to cross check that higher polarity scores have higher subjectivity score too.\n",
    "\n"
   ]
  },
  {
   "cell_type": "markdown",
   "id": "c91b5abc",
   "metadata": {},
   "source": [
    "## 1.4. SentiWordNet\n",
    "\n",
    "SentiWordNet is a lexical resource built on top of WordNet that assigns sentiment scores to synsets (sets of cognitive synonyms), capturing their positive, negative, and objective orientations. Unlike rule-based or machine learning sentiment tools, SentiWordNet operates at the word sense level, enabling more fine-grained sentiment analysis by considering the contextual meaning of words. Each synset is associated with numerical scores that represent its sentiment polarity, making the resource suitable for tasks requiring detailed semantic analysis. It is commonly used in research and academic applications where explainability and control over linguistic features are important, and it supports multiple languages through extensions or mappings."
   ]
  },
  {
   "cell_type": "markdown",
   "id": "1400f15e",
   "metadata": {},
   "source": [
    "## 2. Comparison"
   ]
  },
  {
   "cell_type": "markdown",
   "id": "acb9a6a7",
   "metadata": {},
   "source": [
    "## 2.1. Language Support (English and Deutsch)\n",
    "\n",
    "|     | **SentiStrength** | **VADER** | **TextBlob** | **SentiWordNet** |\n",
    "|:---:|:-----------------:|:---------:|:------------:|:----------------:|\n",
    "| English | &#x2611;       | &#x2611;   | &#x2611;      | &#x2611;          |\n",
    "| Deutsch | &#x2611; (SentiStrength_de) | &#x2611; (GerVader) | &#x2611; (TextBlob_de) | &#x2612; | "
   ]
  },
  {
   "cell_type": "markdown",
   "id": "71671e90",
   "metadata": {},
   "source": [
    "## 2.2. Comparison Across Features \n",
    "\n",
    "| Feature                   | **SentiStrength**                                    | **VADER**                                     | **TextBlob**                              | **SentiWordNet**                                |\n",
    "| ------------------------- | ---------------------------------------------------- | --------------------------------------------- | ----------------------------------------- | ----------------------------------------------- |\n",
    "| **Type**                  | Lexicon + Rule-based                                 | Lexicon + Rule-based (social-media optimized) | Lexicon + Rule-based                      | Lexicon-based (WordNet sentiment scores)        |\n",
    "| **Output Format**         | Two scores: +1 to +5 (positive), -1 to -5 (negative) | Compound (-1 to 1), with pos/neu/neg scores   | Polarity (-1 to 1), Subjectivity (0 to 1) | Positive, Negative, Objective scores (0 to 1)   |\n",
    "| **Handles Negation**      | Yes                                                  | Yes                                           | Basic                                     | No (relies on word-level sentiment)             |\n",
    "| **Handles Emojis/Slang**  | Limited                                              | Very good                                     | Poor                                      | None                                            |\n",
    "| **Context Awareness**     | Limited                                              | Limited                                       | Very limited                              | None (word-level only)                          |\n",
    "| **Customizability**       | Yes (custom lexicons)                                | Limited                                       | Limited                                   | Moderate |\n"
   ]
  },
  {
   "cell_type": "markdown",
   "id": "8ccf217a",
   "metadata": {},
   "source": [
    "# 3. Perform Sentiment Analysis"
   ]
  },
  {
   "cell_type": "code",
   "execution_count": 109,
   "id": "805156a7",
   "metadata": {},
   "outputs": [],
   "source": [
    "import pandas as pd\n",
    "from sentiments_analysis import (get_sentiments_sentistrength, get_sentiments_vader, \n",
    "                                 get_sentiments_textblob, get_sentiments_sentiwordnet)"
   ]
  },
  {
   "cell_type": "code",
   "execution_count": 110,
   "id": "ddd713c3",
   "metadata": {},
   "outputs": [],
   "source": [
    "output = {\n",
    "    'en' : { 'text': [], 'sentistrength': [], 'vader': [], 'textblob': [], 'sentiwordnet': []}, \n",
    "          'de' : { 'text': [], 'sentistrength' : [], 'vader' : [], 'textblob': []}\n",
    "          }"
   ]
  },
  {
   "cell_type": "markdown",
   "id": "050b80c1",
   "metadata": {},
   "source": [
    "## 3.1. With English Texts"
   ]
  },
  {
   "cell_type": "code",
   "execution_count": 111,
   "id": "55b2073b",
   "metadata": {},
   "outputs": [],
   "source": [
    "input_texts_en = [\n",
    "'I absolutely loved the performance — it was breathtaking from start to finish!',\n",
    "'The movie was enjoyable, though a bit slow in parts.',\n",
    "'That was the worst experience and is unacceptable'\n",
    "]\n",
    "\n",
    "output['en']['text'] = input_texts_en\n",
    "\n",
    "# for bulk analysis update the text in file 'data/input_text_en.txt' for English texts, having one item \n",
    "    # (document, sentence, social media post per line)"
   ]
  },
  {
   "cell_type": "code",
   "execution_count": 112,
   "id": "0c9c666e",
   "metadata": {},
   "outputs": [
    {
     "name": "stdout",
     "output_type": "stream",
     "text": [
      "[{'pos': 5, 'neg': -1, 'neu': 1}, {'pos': 3, 'neg': -1, 'neu': 1}, {'pos': 1, 'neg': -3, 'neu': -1}]\n"
     ]
    }
   ],
   "source": [
    "# 1. Using SentiStrength\n",
    "\n",
    "# Calling SentiStrength method. It uses trinary mode by default, providing pos, neg and neu scores \n",
    "# The other modes of operation are dual, scale and binary\n",
    "\n",
    "scores = []\n",
    "for text in input_texts_en:\n",
    "    score = get_sentiments_sentistrength(text, lang='en')\n",
    "    scores.append(score)\n",
    "output['en']['sentistrength'] = scores\n",
    "print(scores)"
   ]
  },
  {
   "cell_type": "code",
   "execution_count": 113,
   "id": "c53b37fb",
   "metadata": {},
   "outputs": [
    {
     "name": "stdout",
     "output_type": "stream",
     "text": [
      "[{'neg': 0.0, 'neu': 0.595, 'pos': 0.405, 'compound': 0.8169}, {'neg': 0.0, 'neu': 0.756, 'pos': 0.244, 'compound': 0.4404}, {'neg': 0.542, 'neu': 0.458, 'pos': 0.0, 'compound': -0.7964}]\n"
     ]
    }
   ],
   "source": [
    "# 2. Using VADER\n",
    "\n",
    "# Calling VADER sentiment analysis method on input_texts\n",
    "\n",
    "scores = []\n",
    "for text in input_texts_en:\n",
    "    score = get_sentiments_vader(text, lang='en')\n",
    "    scores.append(score)\n",
    "output['en']['vader'] = scores\n",
    "print(scores)"
   ]
  },
  {
   "cell_type": "code",
   "execution_count": 114,
   "id": "61317eb7",
   "metadata": {},
   "outputs": [
    {
     "name": "stdout",
     "output_type": "stream",
     "text": [
      "[{'polarity': 0.85, 'subjectivity': 0.9}, {'polarity': 0.09999999999999998, 'subjectivity': 0.5}, {'polarity': -1.0, 'subjectivity': 1.0}]\n"
     ]
    }
   ],
   "source": [
    "# 3. Using TextBlob\n",
    "\n",
    "# Calling TextBlob sentiment analysis method on input_texts\n",
    "\n",
    "scores = []\n",
    "for text in input_texts_en:\n",
    "    score = get_sentiments_textblob(text, lang='en')\n",
    "    scores.append(score)\n",
    "output['en']['textblob'] = scores\n",
    "print(scores)"
   ]
  },
  {
   "cell_type": "code",
   "execution_count": 115,
   "id": "feca6d25",
   "metadata": {},
   "outputs": [
    {
     "name": "stdout",
     "output_type": "stream",
     "text": [
      "[{'pos': 0.625, 'neg': 0.0}, {'pos': 0.5, 'neg': 0.375}, {'pos': 0.25, 'neg': 1.5}]\n"
     ]
    }
   ],
   "source": [
    "# 4. Using SentiWordNet\n",
    "\n",
    "# Calling SentiWordNet sentiment analysis method on input_texts\n",
    "# Please note that the 0 scores do not indicate absense of positive or negative polarity but rather no Synset for the \n",
    "# given word in WordNet that is required for SentiWordNet\n",
    "\n",
    "scores = []\n",
    "for text in input_texts_en:\n",
    "    score = get_sentiments_sentiwordnet(text, lang='en')\n",
    "    scores.append(score)\n",
    "\n",
    "output['en']['sentiwordnet'] = scores\n",
    "print(scores)"
   ]
  },
  {
   "cell_type": "code",
   "execution_count": 116,
   "id": "dfd30cc8",
   "metadata": {},
   "outputs": [
    {
     "data": {
      "text/html": [
       "<div>\n",
       "<style scoped>\n",
       "    .dataframe tbody tr th:only-of-type {\n",
       "        vertical-align: middle;\n",
       "    }\n",
       "\n",
       "    .dataframe tbody tr th {\n",
       "        vertical-align: top;\n",
       "    }\n",
       "\n",
       "    .dataframe thead th {\n",
       "        text-align: right;\n",
       "    }\n",
       "</style>\n",
       "<table border=\"1\" class=\"dataframe\">\n",
       "  <thead>\n",
       "    <tr style=\"text-align: right;\">\n",
       "      <th></th>\n",
       "      <th>text</th>\n",
       "      <th>sentistrength</th>\n",
       "      <th>vader</th>\n",
       "      <th>textblob</th>\n",
       "      <th>sentiwordnet</th>\n",
       "    </tr>\n",
       "  </thead>\n",
       "  <tbody>\n",
       "    <tr>\n",
       "      <th>0</th>\n",
       "      <td>I absolutely loved the performance — it was br...</td>\n",
       "      <td>{'pos': 5, 'neg': -1, 'neu': 1}</td>\n",
       "      <td>{'neg': 0.0, 'neu': 0.595, 'pos': 0.405, 'comp...</td>\n",
       "      <td>{'polarity': 0.85, 'subjectivity': 0.9}</td>\n",
       "      <td>{'pos': 0.625, 'neg': 0.0}</td>\n",
       "    </tr>\n",
       "    <tr>\n",
       "      <th>1</th>\n",
       "      <td>The movie was enjoyable, though a bit slow in ...</td>\n",
       "      <td>{'pos': 3, 'neg': -1, 'neu': 1}</td>\n",
       "      <td>{'neg': 0.0, 'neu': 0.756, 'pos': 0.244, 'comp...</td>\n",
       "      <td>{'polarity': 0.09999999999999998, 'subjectivit...</td>\n",
       "      <td>{'pos': 0.5, 'neg': 0.375}</td>\n",
       "    </tr>\n",
       "    <tr>\n",
       "      <th>2</th>\n",
       "      <td>That was the worst experience and is unacceptable</td>\n",
       "      <td>{'pos': 1, 'neg': -3, 'neu': -1}</td>\n",
       "      <td>{'neg': 0.542, 'neu': 0.458, 'pos': 0.0, 'comp...</td>\n",
       "      <td>{'polarity': -1.0, 'subjectivity': 1.0}</td>\n",
       "      <td>{'pos': 0.25, 'neg': 1.5}</td>\n",
       "    </tr>\n",
       "  </tbody>\n",
       "</table>\n",
       "</div>"
      ],
      "text/plain": [
       "                                                text  \\\n",
       "0  I absolutely loved the performance — it was br...   \n",
       "1  The movie was enjoyable, though a bit slow in ...   \n",
       "2  That was the worst experience and is unacceptable   \n",
       "\n",
       "                      sentistrength  \\\n",
       "0   {'pos': 5, 'neg': -1, 'neu': 1}   \n",
       "1   {'pos': 3, 'neg': -1, 'neu': 1}   \n",
       "2  {'pos': 1, 'neg': -3, 'neu': -1}   \n",
       "\n",
       "                                               vader  \\\n",
       "0  {'neg': 0.0, 'neu': 0.595, 'pos': 0.405, 'comp...   \n",
       "1  {'neg': 0.0, 'neu': 0.756, 'pos': 0.244, 'comp...   \n",
       "2  {'neg': 0.542, 'neu': 0.458, 'pos': 0.0, 'comp...   \n",
       "\n",
       "                                            textblob  \\\n",
       "0            {'polarity': 0.85, 'subjectivity': 0.9}   \n",
       "1  {'polarity': 0.09999999999999998, 'subjectivit...   \n",
       "2            {'polarity': -1.0, 'subjectivity': 1.0}   \n",
       "\n",
       "                 sentiwordnet  \n",
       "0  {'pos': 0.625, 'neg': 0.0}  \n",
       "1  {'pos': 0.5, 'neg': 0.375}  \n",
       "2   {'pos': 0.25, 'neg': 1.5}  "
      ]
     },
     "execution_count": 116,
     "metadata": {},
     "output_type": "execute_result"
    }
   ],
   "source": [
    "df_en = pd.DataFrame(output['en'])\n",
    "\n",
    "df_en"
   ]
  },
  {
   "cell_type": "markdown",
   "id": "add2bc43",
   "metadata": {},
   "source": [
    "## 3.2 With Deutsch Texts"
   ]
  },
  {
   "cell_type": "code",
   "execution_count": 117,
   "id": "7403d24e",
   "metadata": {},
   "outputs": [],
   "source": [
    "input_texts_de = [\n",
    "'Ich war begeistert von der Show – einfach fantastisch!',\n",
    "'Das Essen war ganz gut, aber nichts Besonderes.',\n",
    "'Das Treffen begann um zehn Uhr morgens.'\n",
    "]\n",
    "\n",
    "output['de']['text'] = input_texts_de\n",
    "\n",
    "# for bulk analysis update the text in file 'data/input_text_de.txt' for English texts, having one item \n",
    "    # (document, sentence, social media post per line)"
   ]
  },
  {
   "cell_type": "code",
   "execution_count": 118,
   "id": "4318e47c",
   "metadata": {},
   "outputs": [
    {
     "name": "stdout",
     "output_type": "stream",
     "text": [
      "[{'pos': 2, 'neg': -1, 'neu': 1}, {'pos': 1, 'neg': -1, 'neu': 0}, {'pos': 1, 'neg': -1, 'neu': 0}]\n"
     ]
    }
   ],
   "source": [
    "# 1. Using SentiStrength\n",
    "\n",
    "# Calling SentiStrength method. It uses trinary mode by default, providing pos, neg and neu scores \n",
    "# The other modes of operation are dual, scale and binary\n",
    "\n",
    "scores = []\n",
    "for text in input_texts_de:\n",
    "    score = get_sentiments_sentistrength(text, lang='de')\n",
    "    scores.append(score)\n",
    "output['de']['sentistrength'] = scores\n",
    "print(scores)"
   ]
  },
  {
   "cell_type": "code",
   "execution_count": 119,
   "id": "8bd51bff",
   "metadata": {},
   "outputs": [
    {
     "name": "stdout",
     "output_type": "stream",
     "text": [
      "[{'neg': 0.0, 'neu': 0.334, 'pos': 0.666, 'compound': 0.8748}, {'neg': 0.194, 'neu': 0.532, 'pos': 0.275, 'compound': 0.2302}, {'neg': 0.0, 'neu': 1.0, 'pos': 0.0, 'compound': 0.0}]\n"
     ]
    }
   ],
   "source": [
    "# 2. Using VADER\n",
    "\n",
    "# Calling VADER sentiment analysis method on input_texts\n",
    "\n",
    "scores = []\n",
    "for text in input_texts_de:\n",
    "    score = get_sentiments_vader(text, lang='de')\n",
    "    scores.append(score)\n",
    "\n",
    "output['de']['vader'] = scores\n",
    "print(scores)"
   ]
  },
  {
   "cell_type": "code",
   "execution_count": 127,
   "id": "157fa181",
   "metadata": {},
   "outputs": [
    {
     "name": "stdout",
     "output_type": "stream",
     "text": [
      "[{'polarity': 1.0, 'subjectivity': 0.0}, {'polarity': 1.0, 'subjectivity': 0.0}, {'polarity': 0.0, 'subjectivity': 0.0}]\n"
     ]
    }
   ],
   "source": [
    "# 3. Using TextBlob\n",
    "\n",
    "# Calling TextBlob sentiment analysis method on input_texts\n",
    "\n",
    "scores = []\n",
    "for text in input_texts_de:\n",
    "    score = get_sentiments_textblob(text, lang='de')\n",
    "    scores.append(score)\n",
    "output['de']['textblob'] = scores\n",
    "print(scores)"
   ]
  },
  {
   "cell_type": "code",
   "execution_count": 128,
   "id": "ee186dcf",
   "metadata": {},
   "outputs": [
    {
     "data": {
      "text/html": [
       "<div>\n",
       "<style scoped>\n",
       "    .dataframe tbody tr th:only-of-type {\n",
       "        vertical-align: middle;\n",
       "    }\n",
       "\n",
       "    .dataframe tbody tr th {\n",
       "        vertical-align: top;\n",
       "    }\n",
       "\n",
       "    .dataframe thead th {\n",
       "        text-align: right;\n",
       "    }\n",
       "</style>\n",
       "<table border=\"1\" class=\"dataframe\">\n",
       "  <thead>\n",
       "    <tr style=\"text-align: right;\">\n",
       "      <th></th>\n",
       "      <th>text</th>\n",
       "      <th>sentistrength</th>\n",
       "      <th>vader</th>\n",
       "      <th>textblob</th>\n",
       "    </tr>\n",
       "  </thead>\n",
       "  <tbody>\n",
       "    <tr>\n",
       "      <th>0</th>\n",
       "      <td>Ich war begeistert von der Show – einfach fant...</td>\n",
       "      <td>{'pos': 2, 'neg': -1, 'neu': 1}</td>\n",
       "      <td>{'neg': 0.0, 'neu': 0.334, 'pos': 0.666, 'comp...</td>\n",
       "      <td>{'polarity': 1.0, 'subjectivity': 0.0}</td>\n",
       "    </tr>\n",
       "    <tr>\n",
       "      <th>1</th>\n",
       "      <td>Das Essen war ganz gut, aber nichts Besonderes.</td>\n",
       "      <td>{'pos': 1, 'neg': -1, 'neu': 0}</td>\n",
       "      <td>{'neg': 0.194, 'neu': 0.532, 'pos': 0.275, 'co...</td>\n",
       "      <td>{'polarity': 1.0, 'subjectivity': 0.0}</td>\n",
       "    </tr>\n",
       "    <tr>\n",
       "      <th>2</th>\n",
       "      <td>Das Treffen begann um zehn Uhr morgens.</td>\n",
       "      <td>{'pos': 1, 'neg': -1, 'neu': 0}</td>\n",
       "      <td>{'neg': 0.0, 'neu': 1.0, 'pos': 0.0, 'compound...</td>\n",
       "      <td>{'polarity': 0.0, 'subjectivity': 0.0}</td>\n",
       "    </tr>\n",
       "  </tbody>\n",
       "</table>\n",
       "</div>"
      ],
      "text/plain": [
       "                                                text  \\\n",
       "0  Ich war begeistert von der Show – einfach fant...   \n",
       "1    Das Essen war ganz gut, aber nichts Besonderes.   \n",
       "2            Das Treffen begann um zehn Uhr morgens.   \n",
       "\n",
       "                     sentistrength  \\\n",
       "0  {'pos': 2, 'neg': -1, 'neu': 1}   \n",
       "1  {'pos': 1, 'neg': -1, 'neu': 0}   \n",
       "2  {'pos': 1, 'neg': -1, 'neu': 0}   \n",
       "\n",
       "                                               vader  \\\n",
       "0  {'neg': 0.0, 'neu': 0.334, 'pos': 0.666, 'comp...   \n",
       "1  {'neg': 0.194, 'neu': 0.532, 'pos': 0.275, 'co...   \n",
       "2  {'neg': 0.0, 'neu': 1.0, 'pos': 0.0, 'compound...   \n",
       "\n",
       "                                 textblob  \n",
       "0  {'polarity': 1.0, 'subjectivity': 0.0}  \n",
       "1  {'polarity': 1.0, 'subjectivity': 0.0}  \n",
       "2  {'polarity': 0.0, 'subjectivity': 0.0}  "
      ]
     },
     "execution_count": 128,
     "metadata": {},
     "output_type": "execute_result"
    }
   ],
   "source": [
    "df_de = pd.DataFrame(output['de'])\n",
    "\n",
    "df_de"
   ]
  },
  {
   "cell_type": "markdown",
   "id": "abe77f77",
   "metadata": {},
   "source": [
    "## 3.3. Comparing Results"
   ]
  },
  {
   "cell_type": "code",
   "execution_count": 133,
   "id": "85b7ba10",
   "metadata": {},
   "outputs": [
    {
     "data": {
      "text/plain": [
       "{'text': ['I absolutely loved the performance — it was breathtaking from start to finish!',\n",
       "  'The movie was enjoyable, though a bit slow in parts.',\n",
       "  'That was the worst experience and is unacceptable'],\n",
       " 'sentistrength': [{'pos': 5, 'neg': -1, 'neu': 1},\n",
       "  {'pos': 3, 'neg': -1, 'neu': 1},\n",
       "  {'pos': 1, 'neg': -3, 'neu': -1}],\n",
       " 'vader': [{'neg': 0.0, 'neu': 0.595, 'pos': 0.405, 'compound': 0.8169},\n",
       "  {'neg': 0.0, 'neu': 0.756, 'pos': 0.244, 'compound': 0.4404},\n",
       "  {'neg': 0.542, 'neu': 0.458, 'pos': 0.0, 'compound': -0.7964}],\n",
       " 'textblob': [{'polarity': 0.85, 'subjectivity': 0.9},\n",
       "  {'polarity': 0.09999999999999998, 'subjectivity': 0.5},\n",
       "  {'polarity': -1.0, 'subjectivity': 1.0}],\n",
       " 'sentiwordnet': [{'pos': 0.625, 'neg': 0.0},\n",
       "  {'pos': 0.5, 'neg': 0.375},\n",
       "  {'pos': 0.25, 'neg': 1.5}]}"
      ]
     },
     "execution_count": 133,
     "metadata": {},
     "output_type": "execute_result"
    }
   ],
   "source": [
    "output['en']"
   ]
  },
  {
   "cell_type": "code",
   "execution_count": 130,
   "id": "eff24e89",
   "metadata": {},
   "outputs": [
    {
     "data": {
      "text/html": [
       "<div>\n",
       "<style scoped>\n",
       "    .dataframe tbody tr th:only-of-type {\n",
       "        vertical-align: middle;\n",
       "    }\n",
       "\n",
       "    .dataframe tbody tr th {\n",
       "        vertical-align: top;\n",
       "    }\n",
       "\n",
       "    .dataframe thead th {\n",
       "        text-align: right;\n",
       "    }\n",
       "</style>\n",
       "<table border=\"1\" class=\"dataframe\">\n",
       "  <thead>\n",
       "    <tr style=\"text-align: right;\">\n",
       "      <th></th>\n",
       "      <th>text</th>\n",
       "      <th>sentistrength</th>\n",
       "      <th>vader</th>\n",
       "      <th>textblob</th>\n",
       "      <th>sentiwordnet</th>\n",
       "    </tr>\n",
       "  </thead>\n",
       "  <tbody>\n",
       "    <tr>\n",
       "      <th>0</th>\n",
       "      <td>I absolutely loved the performance — it was br...</td>\n",
       "      <td>{'pos': 5, 'neg': -1, 'neu': 1}</td>\n",
       "      <td>{'neg': 0.0, 'neu': 0.595, 'pos': 0.405, 'comp...</td>\n",
       "      <td>{'polarity': 0.85, 'subjectivity': 0.9}</td>\n",
       "      <td>{'pos': 0.625, 'neg': 0.0}</td>\n",
       "    </tr>\n",
       "    <tr>\n",
       "      <th>1</th>\n",
       "      <td>The movie was enjoyable, though a bit slow in ...</td>\n",
       "      <td>{'pos': 3, 'neg': -1, 'neu': 1}</td>\n",
       "      <td>{'neg': 0.0, 'neu': 0.756, 'pos': 0.244, 'comp...</td>\n",
       "      <td>{'polarity': 0.09999999999999998, 'subjectivit...</td>\n",
       "      <td>{'pos': 0.5, 'neg': 0.375}</td>\n",
       "    </tr>\n",
       "    <tr>\n",
       "      <th>2</th>\n",
       "      <td>That was the worst experience and is unacceptable</td>\n",
       "      <td>{'pos': 1, 'neg': -3, 'neu': -1}</td>\n",
       "      <td>{'neg': 0.542, 'neu': 0.458, 'pos': 0.0, 'comp...</td>\n",
       "      <td>{'polarity': -1.0, 'subjectivity': 1.0}</td>\n",
       "      <td>{'pos': 0.25, 'neg': 1.5}</td>\n",
       "    </tr>\n",
       "  </tbody>\n",
       "</table>\n",
       "</div>"
      ],
      "text/plain": [
       "                                                text  \\\n",
       "0  I absolutely loved the performance — it was br...   \n",
       "1  The movie was enjoyable, though a bit slow in ...   \n",
       "2  That was the worst experience and is unacceptable   \n",
       "\n",
       "                      sentistrength  \\\n",
       "0   {'pos': 5, 'neg': -1, 'neu': 1}   \n",
       "1   {'pos': 3, 'neg': -1, 'neu': 1}   \n",
       "2  {'pos': 1, 'neg': -3, 'neu': -1}   \n",
       "\n",
       "                                               vader  \\\n",
       "0  {'neg': 0.0, 'neu': 0.595, 'pos': 0.405, 'comp...   \n",
       "1  {'neg': 0.0, 'neu': 0.756, 'pos': 0.244, 'comp...   \n",
       "2  {'neg': 0.542, 'neu': 0.458, 'pos': 0.0, 'comp...   \n",
       "\n",
       "                                            textblob  \\\n",
       "0            {'polarity': 0.85, 'subjectivity': 0.9}   \n",
       "1  {'polarity': 0.09999999999999998, 'subjectivit...   \n",
       "2            {'polarity': -1.0, 'subjectivity': 1.0}   \n",
       "\n",
       "                 sentiwordnet  \n",
       "0  {'pos': 0.625, 'neg': 0.0}  \n",
       "1  {'pos': 0.5, 'neg': 0.375}  \n",
       "2   {'pos': 0.25, 'neg': 1.5}  "
      ]
     },
     "execution_count": 130,
     "metadata": {},
     "output_type": "execute_result"
    }
   ],
   "source": [
    "df_en"
   ]
  },
  {
   "cell_type": "markdown",
   "id": "9dc783bb",
   "metadata": {},
   "source": [
    "**For English Text**\n",
    "\n",
    "*S1:* clearly positive with high positive score from Sentistrength, TextBlob and SentiWordNet. On VADER, although it has higher neutral score which scores that the sentence is more neutral part, however the compound score close to one suggests that its positive for VADER as well. Its subjectivity is very high on TextBlob as well, indicating that the sentence is a good fit for sentiment analysis.\n",
    "\n",
    "*S2:* This is a positive sentence with lower intensity as per SentiStrength. Again VADER has a higher neutral score for it but the compound value is in favor of positive sentiments (much lower in intensity than S1). Its a borderline case, in terms of subjectivity for TextBlob and have very low positive score. For SentiWordNet it it has similar positive and negative scores. All of these indicators suggest, a just above neutral positive sentence.\n",
    "\n",
    "*S3:* This sentence has higher negative score on SentiStrength, vader (higher negative score and compount score close to -1), maximum negative score on TextBlob and high negative score on SentiWordNet. The subjectivity is also maximum.\n"
   ]
  },
  {
   "cell_type": "code",
   "execution_count": 131,
   "id": "514401dd",
   "metadata": {},
   "outputs": [
    {
     "data": {
      "text/html": [
       "<div>\n",
       "<style scoped>\n",
       "    .dataframe tbody tr th:only-of-type {\n",
       "        vertical-align: middle;\n",
       "    }\n",
       "\n",
       "    .dataframe tbody tr th {\n",
       "        vertical-align: top;\n",
       "    }\n",
       "\n",
       "    .dataframe thead th {\n",
       "        text-align: right;\n",
       "    }\n",
       "</style>\n",
       "<table border=\"1\" class=\"dataframe\">\n",
       "  <thead>\n",
       "    <tr style=\"text-align: right;\">\n",
       "      <th></th>\n",
       "      <th>text</th>\n",
       "      <th>sentistrength</th>\n",
       "      <th>vader</th>\n",
       "      <th>textblob</th>\n",
       "    </tr>\n",
       "  </thead>\n",
       "  <tbody>\n",
       "    <tr>\n",
       "      <th>0</th>\n",
       "      <td>Ich war begeistert von der Show – einfach fant...</td>\n",
       "      <td>{'pos': 2, 'neg': -1, 'neu': 1}</td>\n",
       "      <td>{'neg': 0.0, 'neu': 0.334, 'pos': 0.666, 'comp...</td>\n",
       "      <td>{'polarity': 1.0, 'subjectivity': 0.0}</td>\n",
       "    </tr>\n",
       "    <tr>\n",
       "      <th>1</th>\n",
       "      <td>Das Essen war ganz gut, aber nichts Besonderes.</td>\n",
       "      <td>{'pos': 1, 'neg': -1, 'neu': 0}</td>\n",
       "      <td>{'neg': 0.194, 'neu': 0.532, 'pos': 0.275, 'co...</td>\n",
       "      <td>{'polarity': 1.0, 'subjectivity': 0.0}</td>\n",
       "    </tr>\n",
       "    <tr>\n",
       "      <th>2</th>\n",
       "      <td>Das Treffen begann um zehn Uhr morgens.</td>\n",
       "      <td>{'pos': 1, 'neg': -1, 'neu': 0}</td>\n",
       "      <td>{'neg': 0.0, 'neu': 1.0, 'pos': 0.0, 'compound...</td>\n",
       "      <td>{'polarity': 0.0, 'subjectivity': 0.0}</td>\n",
       "    </tr>\n",
       "  </tbody>\n",
       "</table>\n",
       "</div>"
      ],
      "text/plain": [
       "                                                text  \\\n",
       "0  Ich war begeistert von der Show – einfach fant...   \n",
       "1    Das Essen war ganz gut, aber nichts Besonderes.   \n",
       "2            Das Treffen begann um zehn Uhr morgens.   \n",
       "\n",
       "                     sentistrength  \\\n",
       "0  {'pos': 2, 'neg': -1, 'neu': 1}   \n",
       "1  {'pos': 1, 'neg': -1, 'neu': 0}   \n",
       "2  {'pos': 1, 'neg': -1, 'neu': 0}   \n",
       "\n",
       "                                               vader  \\\n",
       "0  {'neg': 0.0, 'neu': 0.334, 'pos': 0.666, 'comp...   \n",
       "1  {'neg': 0.194, 'neu': 0.532, 'pos': 0.275, 'co...   \n",
       "2  {'neg': 0.0, 'neu': 1.0, 'pos': 0.0, 'compound...   \n",
       "\n",
       "                                 textblob  \n",
       "0  {'polarity': 1.0, 'subjectivity': 0.0}  \n",
       "1  {'polarity': 1.0, 'subjectivity': 0.0}  \n",
       "2  {'polarity': 0.0, 'subjectivity': 0.0}  "
      ]
     },
     "execution_count": 131,
     "metadata": {},
     "output_type": "execute_result"
    }
   ],
   "source": [
    "df_de"
   ]
  },
  {
   "cell_type": "code",
   "execution_count": 132,
   "id": "edff5b8d",
   "metadata": {},
   "outputs": [
    {
     "data": {
      "text/plain": [
       "{'text': ['Ich war begeistert von der Show – einfach fantastisch!',\n",
       "  'Das Essen war ganz gut, aber nichts Besonderes.',\n",
       "  'Das Treffen begann um zehn Uhr morgens.'],\n",
       " 'sentistrength': [{'pos': 2, 'neg': -1, 'neu': 1},\n",
       "  {'pos': 1, 'neg': -1, 'neu': 0},\n",
       "  {'pos': 1, 'neg': -1, 'neu': 0}],\n",
       " 'vader': [{'neg': 0.0, 'neu': 0.334, 'pos': 0.666, 'compound': 0.8748},\n",
       "  {'neg': 0.194, 'neu': 0.532, 'pos': 0.275, 'compound': 0.2302},\n",
       "  {'neg': 0.0, 'neu': 1.0, 'pos': 0.0, 'compound': 0.0}],\n",
       " 'textblob': [{'polarity': 1.0, 'subjectivity': 0.0},\n",
       "  {'polarity': 1.0, 'subjectivity': 0.0},\n",
       "  {'polarity': 0.0, 'subjectivity': 0.0}]}"
      ]
     },
     "execution_count": 132,
     "metadata": {},
     "output_type": "execute_result"
    }
   ],
   "source": [
    "output['de']"
   ]
  },
  {
   "cell_type": "markdown",
   "id": "59d57e51",
   "metadata": {},
   "source": [
    "**For Deutsch Text**\n",
    "\n",
    "*S1:* clearly positive has positive score from Sentistrength and VADER. But according to TextBlob the subjectivity is 0 and therefore, it may either be ignored being objective sentence or considered neutral.\n",
    "\n",
    "*S2:* This is neutral as per SentiStrength, VADER and TextBlob\n",
    "\n",
    "*S3:* This sentence is also even more neutral as SentiStrength, VADER and TextBlob"
   ]
  },
  {
   "cell_type": "code",
   "execution_count": null,
   "id": "3a1c341d",
   "metadata": {},
   "outputs": [],
   "source": []
  }
 ],
 "metadata": {
  "kernelspec": {
   "display_name": "Python 3 (ipykernel)",
   "language": "python",
   "name": "python3"
  },
  "language_info": {
   "codemirror_mode": {
    "name": "ipython",
    "version": 3
   },
   "file_extension": ".py",
   "mimetype": "text/x-python",
   "name": "python",
   "nbconvert_exporter": "python",
   "pygments_lexer": "ipython3",
   "version": "3.10.16"
  }
 },
 "nbformat": 4,
 "nbformat_minor": 5
}
